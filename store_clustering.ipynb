{
 "cells": [
  {
   "cell_type": "code",
   "execution_count": 103,
   "metadata": {
    "collapsed": false
   },
   "outputs": [],
   "source": [
    "import numpy as np\n",
    "import pandas as pd\n",
    "import pylab as pl\n",
    "from sklearn.cluster import KMeans\n",
    "from sklearn.preprocessing import normalize\n",
    "import seaborn as sns\n",
    "\n",
    "%matplotlib inline\n",
    "pd.set_option('display.mpl_style', 'default')\n",
    "pl.rcParams['figure.figsize'] = (20.0, 10.0)\n",
    "\n",
    "train = pd.read_csv('train.csv', header=0, low_memory=False)\n",
    "store_info = pd.read_csv('store.csv', header=0, low_memory=False)\n",
    "\n",
    "train.Date = pd.to_datetime(train.Date)\n",
    "\n",
    "store_info.CompetitionDistance = store_info.CompetitionDistance.fillna(0)\n",
    "store_info.CompetitionOpenSinceMonth = store_info.CompetitionOpenSinceMonth.fillna(0).astype(int)\n",
    "store_info.CompetitionOpenSinceYear = store_info.CompetitionOpenSinceYear.fillna(0).astype(int)\n",
    "store_info.Promo2SinceWeek = store_info.Promo2SinceWeek.fillna(0).astype(int)\n",
    "store_info.Promo2SinceYear = store_info.Promo2SinceYear.fillna(0).astype(int)\n",
    "\n",
    "promo_intervals = [np.NaN] + list(store_info.PromoInterval.value_counts().index)\n",
    "store_info.PromoInterval = store_info.PromoInterval.map(lambda x: promo_intervals.index(x))"
   ]
  },
  {
   "cell_type": "code",
   "execution_count": 104,
   "metadata": {
    "collapsed": false
   },
   "outputs": [],
   "source": [
    "train_grouped = train[train.Sales > 0].groupby('Store')\n",
    "\n",
    "store_info['SalesMean'] = train_grouped.Sales.mean().reset_index().Sales\n",
    "store_info['SalesMedian'] = train_grouped.Sales.median().reset_index().Sales\n",
    "store_info['SalesStd'] = train_grouped.Sales.std().reset_index().Sales\n",
    "store_info['SalesSum'] = train_grouped.Sales.sum().reset_index().Sales\n",
    "store_info['SalesMax'] = train_grouped.Sales.max().reset_index().Sales\n",
    "store_info['SalesMin'] = train_grouped.Sales.min().reset_index().Sales\n",
    "store_info['SalesSkew'] = train_grouped.Sales.skew().reset_index().Sales\n",
    "\n",
    "del train"
   ]
  },
  {
   "cell_type": "code",
   "execution_count": 105,
   "metadata": {
    "collapsed": false
   },
   "outputs": [],
   "source": [
    "store_info = pd.get_dummies(store_info, columns=['StoreType', 'Assortment'])"
   ]
  },
  {
   "cell_type": "code",
   "execution_count": 110,
   "metadata": {
    "collapsed": false
   },
   "outputs": [],
   "source": [
    "labels = store_info.Store.values\n",
    "data = store_info.values[:, 1:]\n",
    "data = normalize(data, norm='l1', axis=0)"
   ]
  },
  {
   "cell_type": "code",
   "execution_count": 107,
   "metadata": {
    "collapsed": true
   },
   "outputs": [],
   "source": [
    "def cluster_quality(groups, train_grouped):\n",
    "    error = 0.\n",
    "    for stores in groups.values():\n",
    "        means = train_grouped.Sales.mean()[stores]\n",
    "        error += means.map(lambda x: (x - means.mean())/x).sum()**2\n",
    "    return np.sqrt(error)"
   ]
  },
  {
   "cell_type": "code",
   "execution_count": 124,
   "metadata": {
    "collapsed": false
   },
   "outputs": [
    {
     "name": "stdout",
     "output_type": "stream",
     "text": [
      "min_k = 49 min_score = 18.5127116179\n"
     ]
    },
    {
     "data": {
      "image/png": "[encoded data removed]",
      "text/plain": [
       "<matplotlib.figure.Figure at 0x7fde231ebd30>"
      ]
     },
     "metadata": {},
     "output_type": "display_data"
    }
   ],
   "source": [
    "ks, scores = [], []\n",
    "min_k, min_score = 2, 10**5\n",
    "for k in range(2, 50):\n",
    "    kmeans = KMeans(n_clusters=k, n_jobs=-1)\n",
    "    clusters = kmeans.fit_predict(data)\n",
    "    store_info['Cluster'] = clusters\n",
    "    score = cluster_quality(store_info.groupby('Cluster').groups, train_grouped)\n",
    "    scores.append(score)\n",
    "    ks.append(k)\n",
    "    if min_score >= score:\n",
    "        min_score = score\n",
    "        min_k = k\n",
    "        \n",
    "pl.plot(ks, scores, 'r.--')\n",
    "print('min_k =', min_k, 'min_score =', min_score)"
   ]
  },
  {
   "cell_type": "code",
   "execution_count": 126,
   "metadata": {
    "collapsed": false
   },
   "outputs": [
    {
     "name": "stdout",
     "output_type": "stream",
     "text": [
      "quality = 20.2222898902\n"
     ]
    }
   ],
   "source": [
    "kmeans = KMeans(n_clusters=40, n_jobs=-1)\n",
    "clusters = kmeans.fit_predict(data)\n",
    "store_info['Cluster'] = clusters\n",
    "print('quality =', cluster_quality(store_info.groupby('Cluster').groups, train_grouped))"
   ]
  },
  {
   "cell_type": "code",
   "execution_count": 128,
   "metadata": {
    "collapsed": false
   },
   "outputs": [
    {
     "data": {
      "text/plain": [
       "Index(['Store', 'CompetitionDistance', 'CompetitionOpenSinceMonth',\n",
       "       'CompetitionOpenSinceYear', 'Promo2', 'Promo2SinceWeek',\n",
       "       'Promo2SinceYear', 'PromoInterval', 'SalesMean', 'SalesMedian',\n",
       "       'SalesStd', 'SalesSum', 'SalesMax', 'SalesMin', 'SalesSkew',\n",
       "       'StoreType_a', 'StoreType_b', 'StoreType_c', 'StoreType_d',\n",
       "       'Assortment_a', 'Assortment_b', 'Assortment_c', 'Cluster'],\n",
       "      dtype='object')"
      ]
     },
     "execution_count": 128,
     "metadata": {},
     "output_type": "execute_result"
    }
   ],
   "source": [
    "store_info.columns\n"
   ]
  },
  {
   "cell_type": "code",
   "execution_count": 130,
   "metadata": {
    "collapsed": false
   },
   "outputs": [],
   "source": [
    "store_info[['Store', 'Cluster', 'SalesMean', 'SalesMedian', 'SalesStd', 'SalesSum', 'SalesMax',\n",
    "            'SalesMin', 'SalesSkew']].to_csv('store_clusters.csv')\n"
   ]
  }
 ],
 "metadata": {
  "kernelspec": {
   "display_name": "Python 3",
   "language": "python",
   "name": "python3"
  },
  "language_info": {
   "codemirror_mode": {
    "name": "ipython",
    "version": 3
   },
   "file_extension": ".py",
   "mimetype": "text/x-python",
   "name": "python",
   "nbconvert_exporter": "python",
   "pygments_lexer": "ipython3",
   "version": "3.4.3"
  }
 },
 "nbformat": 4,
 "nbformat_minor": 0
}
