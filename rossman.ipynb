{
 "cells": [
  {
   "cell_type": "code",
   "execution_count": null,
   "metadata": {
    "collapsed": false
   },
   "outputs": [],
   "source": [
    "import numpy as np\n",
    "import pandas as pd\n",
    "import pylab as pl\n",
    "\n",
    "%matplotlib inline\n",
    "\n",
    "filename_test = 'test.csv'\n",
    "filename_train = 'train.csv'\n",
    "filename_store = 'store.csv'\n",
    "\n",
    "train = pd.read_csv(filename_train, header=0, low_memory=False)\n",
    "\n",
    "test = pd.read_csv(filename_test, header=0, low_memory=False)\n",
    "\n",
    "\n",
    "store = pd.read_csv(filename_store, header=0, low_memory=False)\n",
    "\n"
   ]
  },
  {
   "cell_type": "code",
   "execution_count": null,
   "metadata": {
    "collapsed": false
   },
   "outputs": [],
   "source": [
    "train['Date'] = pd.to_datetime(train['Date'])\n",
    "\n",
    "test['Date'] = pd.to_datetime(test['Date'])\n"
   ]
  },
  {
   "cell_type": "code",
   "execution_count": null,
   "metadata": {
    "collapsed": false
   },
   "outputs": [],
   "source": [
    "def print_missing_stats():\n",
    "    for data_name, data in {'TRAIN': train, 'TEST': test, 'STORE': store}.items():\n",
    "        print(data_name, ' (overall = %d)' % len(data))\n",
    "        for attribute in data.columns:\n",
    "            mask = data[attribute].isnull()\n",
    "            k = len(data[attribute][mask].tolist())\n",
    "            print('%5d (%2d%%)' % (k, 100*k/len(data)), 'missing values in ', attribute) \n",
    "        print()\n",
    "print_missing_stats()"
   ]
  },
  {
   "cell_type": "code",
   "execution_count": null,
   "metadata": {
    "collapsed": false
   },
   "outputs": [],
   "source": [
    "test.loc('Open')[test['Open'].isnull()] = 0\n",
    "\n",
    "distance_series = store['CompetitionDistance']\n",
    "since_month = store['CompetitionOpenSinceMonth']\n",
    "since_year = store['CompetitionOpenSinceYear']\n",
    "store.loc('CompetitionDistance')[distance_series.isnull()] = distance_series.mean()\n",
    "store.loc('CompetitionOpenSinceMonth')[since_month.isnull()] = int(since_month.mode())\n",
    "store.loc('CompetitionOpenSinceYear')[since_year.isnull()] = int(since_year.mode())\n",
    "\n",
    "print_missing_stats()"
   ]
  },
  {
   "cell_type": "code",
   "execution_count": null,
   "metadata": {
    "collapsed": false
   },
   "outputs": [],
   "source": [
    "from matplotlib.dates import MonthLocator\n",
    "fig, axes = pl.subplots(nrows=7, ncols=1, sharey=True, figsize=(20,100))\n",
    "\n",
    "for day_of_week in range(1, 8):\n",
    "    custom_df = train[(train['Open'] == 1) & (train['DayOfWeek'] == day_of_week)]\n",
    "    gp_store = custom_df.groupby('Store')\n",
    "\n",
    "    for store, group in gp_store:\n",
    "        axes[day_of_week - 1].plot(group['Date'], group['Sales'], 'v--')\n",
    "\n",
    "#     for store, group in gp_store:\n",
    "#         ts_ewma = pd.ewma(group['Sales'], com=7)\n",
    "#         axes[day_of_week - 1].plot(group['Date'], ts_ewma, 'v--')\n",
    "\n",
    "    gp_date = custom_df.groupby('Date')\n",
    "\n",
    "    ts_mean = gp_date['Sales'].mean()\n",
    "    ts_median = gp_date['Sales'].median()\n",
    "    ts_mean.plot(style='r-', linewidth=5, ax=axes[day_of_week - 1], label='mean')\n",
    "    ts_median.plot(style='b-', linewidth=5, ax=axes[day_of_week - 1], label='median')\n",
    "\n",
    "\n",
    "    axes[day_of_week - 1].set_title('Day ' + str(day_of_week) + '. number of stores = ' + str(len(gp_store)))\n",
    "    axes[day_of_week - 1].legend()\n",
    "    axes[day_of_week - 1].xaxis.set_major_locator(MonthLocator())\n",
    "    axes[day_of_week - 1].grid(True)"
   ]
  },
  {
   "cell_type": "code",
   "execution_count": null,
   "metadata": {
    "collapsed": false,
    "scrolled": false
   },
   "outputs": [],
   "source": [
    "fig, axes = pl.subplots(nrows=7, ncols=1, sharey=True, figsize=(20,100))\n",
    "for day_of_week in range(1, 8):\n",
    "    for school_holiday in [0, 1]:\n",
    "        for state_holiday in ['0', 'a', 'b', 'c']:\n",
    "            for promo_flag in [0, 1]:\n",
    "                custom_df = train[(train['Open'] == 1) & \n",
    "                                  (train['DayOfWeek'] == day_of_week) &\n",
    "                                  (train['Promo'] == promo_flag) & \n",
    "                                  (train['SchoolHoliday'] == school_holiday) & \n",
    "                                  (train['StateHoliday'] == state_holiday)]\n",
    "\n",
    "                gp_date = custom_df.groupby('Date')\n",
    "                gp_store = custom_df.groupby('Store')\n",
    "                \n",
    "                def construct_label_name(school_holiday, state_holiday, promo_flag, n_stores):\n",
    "                    string_school = 'NO SchoolHoliday. '\n",
    "                    string_state = 'NO StateHoliday. '\n",
    "                    string_promo = 'NO Promo. '\n",
    "                    if school_holiday == 1:\n",
    "                        string_school = string_school[3:]\n",
    "                    if promo_flag:\n",
    "                        string_promo = string_promo[3:]\n",
    "                    if state_holiday != '0':\n",
    "                        string_state = {'a': 'PublicHoliday. ', 'b': 'EasterHoliday. ', 'c':'Christmas. '}[state_holiday]\n",
    "                    return string_school + string_state + string_promo + '(' + str(n_stores) + ')'\n",
    "                \n",
    "                if list(gp_date['Sales']):\n",
    "                    ts_mean = gp_date['Sales'].mean()\n",
    "                    ts_mean.plot(style='v--', ax=axes[day_of_week - 1], \n",
    "                                 label=construct_label_name(school_holiday, state_holiday, promo_flag, len(gp_store)))\n",
    "#                 else:\n",
    "#                     print('There is no data for ', day_of_week, school_holiday, state_holiday, promo_flag)\n",
    "    \n",
    "                \n",
    "    custom_df = train[(train['Open'] == 1) & (train['DayOfWeek'] == day_of_week)]\n",
    "    gp_date = custom_df.groupby('Date')\n",
    "    gp_store = custom_df.groupby('Store')\n",
    "    ts_mean = gp_date['Sales'].mean()\n",
    "    ts_mean.plot(style='r-', linewidth=1.5, ax=axes[day_of_week - 1], label='mean (' + str(len(gp_store)) + ')')\n",
    "    axes[day_of_week - 1].set_title('Day ' + str(day_of_week))\n",
    "    axes[day_of_week - 1].legend()\n",
    "    axes[day_of_week - 1].xaxis.set_major_locator(MonthLocator())\n",
    "    axes[day_of_week - 1].grid(True)\n",
    "                "
   ]
  }
 ],
 "metadata": {
  "kernelspec": {
   "display_name": "Python 3",
   "language": "python",
   "name": "python3"
  },
  "language_info": {
   "codemirror_mode": {
    "name": "ipython",
    "version": 3
   },
   "file_extension": ".py",
   "mimetype": "text/x-python",
   "name": "python",
   "nbconvert_exporter": "python",
   "pygments_lexer": "ipython3",
   "version": "3.4.3"
  }
 },
 "nbformat": 4,
 "nbformat_minor": 0
}
