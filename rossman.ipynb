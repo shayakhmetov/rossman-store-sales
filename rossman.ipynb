{
 "cells": [
  {
   "cell_type": "code",
   "execution_count": 1,
   "metadata": {
    "collapsed": false,
    "scrolled": true
   },
   "outputs": [],
   "source": [
    "import numpy as np\n",
    "import pandas as pd\n",
    "import pylab as pl\n",
    "from matplotlib.dates import MonthLocator, YearLocator\n",
    "from sklearn.linear_model import ElasticNet, Ridge\n",
    "from sklearn.ensemble.forest import RandomForestRegressor\n",
    "from sklearn.preprocessing import LabelEncoder\n",
    "\n",
    "%matplotlib inline\n",
    "pd.set_option('display.mpl_style', 'default')\n",
    "\n",
    "def print_missing_stats(train, test, store_info):\n",
    "    for data_name, data in {'TRAIN': train, 'TEST': test, 'STORE': store_info}.items():\n",
    "        print(data_name, ' (overall = %d)' % len(data))\n",
    "        for attribute in data.columns:\n",
    "            mask = data[attribute].isnull()\n",
    "            k = len(data[attribute][mask])\n",
    "            print('%5d (%2d%%)' % (k, 100*k/len(data)), 'missing values in ', attribute) \n",
    "        print()\n",
    "\n",
    "def load_data(filename_train, filename_test, filename_store, print_missing=False):\n",
    "\n",
    "    train = pd.read_csv(filename_train, header=0, low_memory=False)\n",
    "    test = pd.read_csv(filename_test, header=0, low_memory=False)\n",
    "    store_info = pd.read_csv(filename_store, header=0, low_memory=False)\n",
    "\n",
    "    train.Date = pd.to_datetime(train.Date)\n",
    "    test.Date = pd.to_datetime(test.Date)\n",
    "    \n",
    "    if print_missing:\n",
    "        print('BEFORE:')\n",
    "        print_missing_stats(train, test, store_info)\n",
    "    \n",
    "    test.Open = test.Open.fillna(1)\n",
    "\n",
    "    store_info.CompetitionDistance = store_info.CompetitionDistance.fillna(0)\n",
    "    store_info.CompetitionOpenSinceMonth = store_info.CompetitionOpenSinceMonth.fillna(0).astype(int)\n",
    "    store_info.CompetitionOpenSinceYear = store_info.CompetitionOpenSinceYear.fillna(0).astype(int)\n",
    "    store_info.Promo2SinceWeek = store_info.Promo2SinceWeek.fillna(0).astype(int)\n",
    "    store_info.Promo2SinceYear = store_info.Promo2SinceYear.fillna(0).astype(int)\n",
    "\n",
    "    promo_intervals = [np.NaN] + list(store_info.PromoInterval.value_counts().index)\n",
    "    store_info.PromoInterval = store_info.PromoInterval.map(lambda x: promo_intervals.index(x))\n",
    "    \n",
    "    if print_missing:\n",
    "        print('AFTER:')\n",
    "        print_missing_stats(train, test, store_info)\n",
    "    return train, test, store_info"
   ]
  },
  {
   "cell_type": "code",
   "execution_count": 2,
   "metadata": {
    "collapsed": false,
    "scrolled": false
   },
   "outputs": [],
   "source": [
    "def plot_all_store_sales(train):\n",
    "    fig, axes = pl.subplots(nrows=7, ncols=1, sharey=True, figsize=(20,100))\n",
    "\n",
    "    open_df = train[train.Open == 1]\n",
    "    for day_of_week in range(1, 8):\n",
    "        custom_df = open_df[open_df.DayOfWeek == day_of_week] \n",
    "        gp_store = custom_df.groupby('Store')\n",
    "\n",
    "        for store, group in gp_store:\n",
    "            axes[day_of_week - 1].plot(group['Date'], group['Sales'], 'v--')\n",
    "\n",
    "        gp_date = custom_df.groupby('Date')\n",
    "\n",
    "        ts_mean = gp_date['Sales'].mean()\n",
    "        ts_median = gp_date['Sales'].median()\n",
    "        ts_mean.plot(style='r-', linewidth=5, ax=axes[day_of_week - 1], label='mean')\n",
    "        ts_median.plot(style='b-', linewidth=5, ax=axes[day_of_week - 1], label='median')\n",
    "\n",
    "\n",
    "        axes[day_of_week - 1].set_title('Day ' + str(day_of_week) + '. number of stores = ' + str(len(gp_store)))\n",
    "        axes[day_of_week - 1].legend()\n",
    "        axes[day_of_week - 1].xaxis.set_major_locator(MonthLocator())\n",
    "        axes[day_of_week - 1].grid(True)\n",
    "    pl.savefig('all_stores_and_median.png', format='png')"
   ]
  },
  {
   "cell_type": "code",
   "execution_count": 3,
   "metadata": {
    "collapsed": false,
    "scrolled": false
   },
   "outputs": [],
   "source": [
    "def construct_label_name(school_holiday, state_holiday, promo_flag, n_stores):\n",
    "    string_school = 'NO SchoolHoliday. '\n",
    "    string_state = 'NO StateHoliday. '\n",
    "    string_promo = 'NO Promo. '\n",
    "    if school_holiday == 1:\n",
    "        string_school = string_school[3:]\n",
    "    if promo_flag:\n",
    "        string_promo = string_promo[3:]\n",
    "    if state_holiday != '0':\n",
    "        string_state = {'a': 'PublicHoliday. ',\n",
    "                        'b': 'EasterHoliday. ',\n",
    "                        'c':'Christmas. '}[state_holiday]\n",
    "    string_stores = '(' + str(n_stores) + ' stores)'\n",
    "    return string_school + string_state + string_promo + string_stores\n",
    "\n",
    "def plot_mean_decomposition(train):\n",
    "    fig, axes = pl.subplots(nrows=7, ncols=1, sharey=True, figsize=(20,100))\n",
    "\n",
    "    open_df = train[train.Open == 1]\n",
    "    for day_of_week in range(1, 8):\n",
    "        day_df = open_df[open_df.DayOfWeek == day_of_week]\n",
    "        for school_holiday in [0, 1]:\n",
    "            school_df = day_df[day_df.SchoolHoliday == school_holiday]\n",
    "            for state_holiday in ['0', 'a', 'b', 'c']:\n",
    "                state_df = school_df[school_df.StateHoliday == state_holiday]\n",
    "                for promo_flag in [0, 1]:\n",
    "                    custom_df = state_df[state_df.Promo == promo_flag]\n",
    "                    if not custom_df.empty:\n",
    "                        gp_date = custom_df.groupby('Date')\n",
    "                        gp_store = custom_df.groupby('Store')\n",
    "\n",
    "                        ts_mean = gp_date.Sales.mean()\n",
    "                        axes[day_of_week - 1].plot(ts_mean.index, ts_mean, 'v--', \n",
    "                                                   label=construct_label_name(school_holiday, state_holiday, \n",
    "                                                                              promo_flag, len(gp_store)))\n",
    "\n",
    "        custom_df = day_df\n",
    "        gp_date = custom_df.groupby('Date')\n",
    "        gp_store = custom_df.groupby('Store')\n",
    "        ts_mean = gp_date.Sales.mean()\n",
    "        ts_mean.plot(style='r-', linewidth=1.5, ax=axes[day_of_week - 1],\n",
    "                     label='mean (' + str(len(gp_store)) + ' stores)')\n",
    "        axes[day_of_week - 1].set_title('Day ' + str(day_of_week))\n",
    "        axes[day_of_week - 1].legend()\n",
    "        axes[day_of_week - 1].xaxis.set_major_locator(MonthLocator())\n",
    "        axes[day_of_week - 1].grid(True)\n",
    "    \n",
    "    \n",
    "    pl.savefig('median_decomposition.png', format='png')"
   ]
  },
  {
   "cell_type": "code",
   "execution_count": 4,
   "metadata": {
    "collapsed": false
   },
   "outputs": [],
   "source": [
    "def get_dates_CV(k):\n",
    "    if k >= 20:\n",
    "        k = 19\n",
    "        print('maximum number of cross-validation folds is 19')\n",
    "    date_range = pd.date_range('2013-01-01', '2015-07-31')\n",
    "    for i in range(k):\n",
    "        temp_date_range = date_range.shift(-i*48)[48*i:]\n",
    "        train_date_range = temp_date_range[:-48]\n",
    "        test_date_range = temp_date_range[-48:] \n",
    "        yield train_date_range, test_date_range"
   ]
  },
  {
   "cell_type": "code",
   "execution_count": 5,
   "metadata": {
    "collapsed": true
   },
   "outputs": [],
   "source": [
    "def merge_with_store(data, store_info):    \n",
    "    store_features = ['Store', 'StoreType', 'Assortment','CompetitionDistance', \n",
    "                      'CompetitionOpenSinceMonth', 'CompetitionOpenSinceYear',\n",
    "                      'Promo2SinceWeek', 'Promo2SinceYear', 'PromoInterval']\n",
    "    data = pd.merge(data, store_info[store_features], on='Store', how='left')\n",
    "    return data\n",
    "\n",
    "def get_dummies_values(series, prefix, values):\n",
    "    new_series = pd.get_dummies(series, prefix=prefix)\n",
    "    for value in values:\n",
    "        column_name = prefix + '_' + str(value)\n",
    "        if column_name not in new_series.columns:\n",
    "            new_series = new_series.join(pd.DataFrame(np.zeros(len(new_series), dtype=int), index=new_series.index,\n",
    "                                                   columns=[column_name]))\n",
    "    columns = sorted(new_series.columns)\n",
    "    return new_series[columns]"
   ]
  },
  {
   "cell_type": "code",
   "execution_count": 6,
   "metadata": {
    "collapsed": true
   },
   "outputs": [],
   "source": [
    "def construct_some_features(data):\n",
    "    data['Day'] = data.Date.map(lambda d: d.day).astype(int)\n",
    "    data['Month'] = data.Date.map(lambda d: d.month).astype(int)\n",
    "    data['Week'] = data.Date.map(lambda d: d.week).astype(int)\n",
    "    data['DayOfYear'] = data.Date.map(lambda d: d.dayofyear).astype(int)\n",
    "    data['Year'] = data.Date.map(lambda d: d.year)\n",
    "   \n",
    "    data['DiffToday'] = ((pd.datetime(2015, 9, 18) - data.Date)\n",
    "                                     / np.timedelta64(1, 'D')).astype(int)\n",
    "    data['DiffNewYear'] = data.Date.map(lambda d: (min(d - pd.datetime(d.year, 1, 1),\n",
    "                                  pd.datetime(d.year + 1, 12, 31) - d) / np.timedelta64(1, 'D')).astype(int))\n",
    "    data['DiffFoolDay'] = data.Date.map(lambda d: ((d - pd.datetime(d.year, 4, 1))\n",
    "                                                                           / np.timedelta64(1, 'D')).astype(int))\n",
    "\n",
    "    data = data.join(get_dummies_values(data.StateHoliday, prefix='StateHoliday', values=['0', 'a', 'b', 'c']))\n",
    "    data = data.join(get_dummies_values(data.Month, prefix='Month', values=np.arange(1, 13)))\n",
    "    data = data.join(get_dummies_values(data.StoreType, prefix='StoreType', values=['a', 'b', 'c', 'd']))\n",
    "    data = data.join(get_dummies_values(data.Assortment, prefix='Assortment', values=['a', 'b', 'c']))\n",
    "    data = data.join(get_dummies_values(data.DayOfWeek, prefix='DayOfWeek', values=np.arange(1, 8)))\n",
    "    data = data.join(get_dummies_values(data.CompetitionOpenSinceMonth, prefix='CompetitionOpenSinceMonth',\n",
    "                                        values=np.arange(1, 13)))\n",
    "    data = data.join(get_dummies_values(data.Year, prefix='Year', values=[2013, 2014, 2015]))\n",
    "    \n",
    "    del data['StateHoliday'], data['Month'],\n",
    "    del data['StoreType'], data['Assortment'], data['DayOfWeek'],\n",
    "    del data['CompetitionOpenSinceMonth'], data['Year']\n",
    "    return data"
   ]
  },
  {
   "cell_type": "code",
   "execution_count": 7,
   "metadata": {
    "collapsed": true
   },
   "outputs": [],
   "source": [
    "def construct_data(data, store_info, train_features):\n",
    "    data = merge_with_store(data[train_features], store_info)\n",
    "    data = construct_some_features(data)\n",
    "    return data"
   ]
  },
  {
   "cell_type": "code",
   "execution_count": 8,
   "metadata": {
    "collapsed": false
   },
   "outputs": [],
   "source": [
    "def main_feature_construction(data):\n",
    "    train_data, test_data, store_info = data\n",
    "    train_data = train_data[train_data.Open == 1]\n",
    "    \n",
    "    train_features = ['Store', 'DayOfWeek', 'Date', 'Promo', 'SchoolHoliday', 'StateHoliday']\n",
    "    \n",
    "    train_data = construct_data(train_data, store_info, train_features + ['Sales'])\n",
    "    columns = [x for x in train_data.columns if x != 'Sales']\n",
    "    train_data = train_data[columns + ['Sales']]\n",
    "    test_data = construct_data(test_data, store_info, train_features)\n",
    "    \n",
    "    assert all([str(x) == str(y) for x, y in zip(list(train_data.columns), list(test_data.columns) + ['Sales'])])\n",
    "    \n",
    "    return train_data, test_data"
   ]
  },
  {
   "cell_type": "code",
   "execution_count": 9,
   "metadata": {
    "collapsed": true
   },
   "outputs": [],
   "source": [
    "def get_data_CV(train_data, number_of_folds=1):\n",
    "    for i, date_ranges in enumerate(get_dates_CV(number_of_folds)):\n",
    "        date_range_train, date_range_test = date_ranges\n",
    "        print('Fold #%d' % (i+1))\n",
    "        print('     Train -> ', [str(date_ranges[0][0]), str(date_ranges[0][-1])])\n",
    "        print('Validation -> ', [str(date_ranges[1][0]), str(date_ranges[1][-1])])\n",
    "        \n",
    "        train_fold = train_data[train_data.Date.isin(date_range_train)]\n",
    "        test_fold = train_data[train_data.Date.isin(date_range_test)]\n",
    "        train_fold_labels = np.array(train_fold.Sales)\n",
    "        test_fold_labels = np.array(test_fold.Sales)\n",
    "        del train_fold['Date'], test_fold['Date'], train_fold['Sales'], test_fold['Sales']\n",
    "        yield np.array(train_fold), train_fold_labels, np.array(test_fold), test_fold_labels, train_fold.columns\n",
    "\n",
    "def get_all_data(train_data, test_data):\n",
    "    print('Train -> all dates')\n",
    "    print(' Test -> need to predict')\n",
    "    train_array_labels = np.array(train_data.Sales)\n",
    "    train_array = train_data[[x for x in train_data.columns if x not in ['Sales', 'Date']]] \n",
    "    test_array = test_data[[x for x in test_data.columns if x != 'Date']]\n",
    "    return np.array(train_array), train_array_labels, np.array(test_array), train_array.columns"
   ]
  },
  {
   "cell_type": "markdown",
   "metadata": {},
   "source": [
    "### Predicting"
   ]
  },
  {
   "cell_type": "code",
   "execution_count": 10,
   "metadata": {
    "collapsed": false
   },
   "outputs": [],
   "source": [
    "def visualize_feature_importances(clf, features):\n",
    "    pl.figure(figsize=(20,10))\n",
    "    if hasattr(clf, 'coef_'):\n",
    "        coefs = clf.coef_\n",
    "        sorted_indices = np.argsort(coefs)[::-1]\n",
    "        for i, k in enumerate(sorted_indices):\n",
    "            print('%2d (feature %2d):' % (i, k), features[k], 'coef = %.8f' % coefs[k])\n",
    "        pl.title('Coeffs of linear model')\n",
    "        pl.bar(range(len(features)), coefs[sorted_indices], color='r')\n",
    "        pl.xticks(range(len(features)), sorted_indices)\n",
    "        pl.xlim([-1, len(features) + 1])\n",
    "        \n",
    "    elif hasattr(clf, 'feature_importances_'):\n",
    "        importances = clf.feature_importances_\n",
    "        std = np.std([tree.feature_importances_ for tree in clf.estimators_], axis=0)\n",
    "        sorted_indices = np.argsort(importances)[::-1]\n",
    "        for i, k in enumerate(sorted_indices):\n",
    "            print('%2d (feature %2d):' % (i, k), features[k], 'Importance = %.5f' % importances[k])\n",
    "        print([features[k] for k in sorted_indices])\n",
    "        pl.title('Feature Importance')\n",
    "        pl.bar(range(len(features)), importances[sorted_indices], color='r',\n",
    "               yerr=std[sorted_indices], align='center')\n",
    "        pl.xticks(range(len(features)), sorted_indices)\n",
    "        pl.xlim([-1, len(features) + 1])\n",
    "        pl.savefig('feature_importance.png', format='png')\n",
    "\n",
    "def compute_RMSPE(test_labels, predicted_labels):\n",
    "    mask = test_labels.nonzero()\n",
    "    y = test_labels[mask]\n",
    "    y_hat = predicted_labels[mask]\n",
    "    return np.sqrt(np.mean(((y - y_hat)/y)**2))\n",
    "\n",
    "def visualize_RMSPE(test_labels, predicted_labels, step = 0.05):\n",
    "    for i in np.arange(0, 1, step):\n",
    "        pl.figure(figsize=(20,7))\n",
    "        pl.plot(test_labels[i*len(test_labels):(i+step)*len(test_labels)],\n",
    "                'b.', label='real')\n",
    "        pl.plot(predicted_labels[i*len(predicted_labels):(i+step)*len(predicted_labels)],\n",
    "                'r.', label='predicted')\n",
    "        pl.legend()"
   ]
  },
  {
   "cell_type": "code",
   "execution_count": 11,
   "metadata": {
    "collapsed": false
   },
   "outputs": [],
   "source": [
    "def fit_predict_model(train_array, train_array_labels, test_array, feature_names,\n",
    "                      params=None, print_importances=True):\n",
    "    \n",
    "    if params:\n",
    "        clf = RandomForestRegressor(n_jobs=-1, **params)\n",
    "    else:\n",
    "        clf = RandomForestRegressor(n_estimators=30, n_jobs=-1, min_samples_leaf=2,\n",
    "                                    max_features=0.464285714286)\n",
    "    \n",
    "#     clf = Ridge(normalize=True, alpha=alpha)\n",
    "    \n",
    "    clf.fit(train_array, np.log(train_array_labels + 1.))\n",
    "    if print_importances:\n",
    "        visualize_feature_importances(clf, feature_names)\n",
    "    \n",
    "    test_predicted_labels = np.exp(clf.predict(test_array)) - 1\n",
    "        \n",
    "    return test_predicted_labels"
   ]
  },
  {
   "cell_type": "markdown",
   "metadata": {},
   "source": [
    "### script begins"
   ]
  },
  {
   "cell_type": "code",
   "execution_count": 12,
   "metadata": {
    "collapsed": true
   },
   "outputs": [],
   "source": [
    "data = load_data('train.csv', 'test.csv', 'store.csv')"
   ]
  },
  {
   "cell_type": "code",
   "execution_count": 13,
   "metadata": {
    "collapsed": true
   },
   "outputs": [],
   "source": [
    "# plot_all_store_sales(data[0])"
   ]
  },
  {
   "cell_type": "code",
   "execution_count": 14,
   "metadata": {
    "collapsed": false,
    "scrolled": true
   },
   "outputs": [],
   "source": [
    "# plot_mean_decomposition(data[0])"
   ]
  },
  {
   "cell_type": "markdown",
   "metadata": {},
   "source": [
    "#Main"
   ]
  },
  {
   "cell_type": "code",
   "execution_count": 26,
   "metadata": {
    "collapsed": false
   },
   "outputs": [
    {
     "ename": "NameError",
     "evalue": "name 'data' is not defined",
     "output_type": "error",
     "traceback": [
      "\u001b[1;31m---------------------------------------------------------------------------\u001b[0m",
      "\u001b[1;31mNameError\u001b[0m                                 Traceback (most recent call last)",
      "\u001b[1;32m<ipython-input-26-581f4b6c9c94>\u001b[0m in \u001b[0;36m<module>\u001b[1;34m()\u001b[0m\n\u001b[1;32m----> 1\u001b[1;33m \u001b[0mtrain_data\u001b[0m\u001b[1;33m,\u001b[0m \u001b[0mtest_data\u001b[0m \u001b[1;33m=\u001b[0m \u001b[0mmain_feature_construction\u001b[0m\u001b[1;33m(\u001b[0m\u001b[0mdata\u001b[0m\u001b[1;33m)\u001b[0m\u001b[1;33m\u001b[0m\u001b[0m\n\u001b[0m\u001b[0;32m      2\u001b[0m \u001b[0mtest\u001b[0m \u001b[1;33m=\u001b[0m \u001b[0mdata\u001b[0m\u001b[1;33m[\u001b[0m\u001b[1;36m1\u001b[0m\u001b[1;33m]\u001b[0m\u001b[1;33m[\u001b[0m\u001b[1;33m[\u001b[0m\u001b[1;34m'Id'\u001b[0m\u001b[1;33m,\u001b[0m \u001b[1;34m'Open'\u001b[0m\u001b[1;33m]\u001b[0m\u001b[1;33m]\u001b[0m\u001b[1;33m\u001b[0m\u001b[0m\n\u001b[0;32m      3\u001b[0m \u001b[0mprint\u001b[0m\u001b[1;33m(\u001b[0m\u001b[1;34m'train_data and test_data have been constructed'\u001b[0m\u001b[1;33m)\u001b[0m\u001b[1;33m\u001b[0m\u001b[0m\n\u001b[0;32m      4\u001b[0m \u001b[1;32mdel\u001b[0m \u001b[0mdata\u001b[0m\u001b[1;33m\u001b[0m\u001b[0m\n\u001b[0;32m      5\u001b[0m \u001b[0mprint\u001b[0m\u001b[1;33m(\u001b[0m\u001b[1;34m'Memory usage of dataframe train_data is %3.2f Mb'\u001b[0m \u001b[1;33m%\u001b[0m \u001b[1;33m(\u001b[0m\u001b[0mtrain_data\u001b[0m\u001b[1;33m.\u001b[0m\u001b[0mmemory_usage\u001b[0m\u001b[1;33m(\u001b[0m\u001b[0mindex\u001b[0m\u001b[1;33m=\u001b[0m\u001b[1;32mTrue\u001b[0m\u001b[1;33m)\u001b[0m\u001b[1;33m.\u001b[0m\u001b[0msum\u001b[0m\u001b[1;33m(\u001b[0m\u001b[1;33m)\u001b[0m\u001b[1;33m/\u001b[0m\u001b[1;33m(\u001b[0m\u001b[1;36m1024\u001b[0m\u001b[1;33m*\u001b[0m\u001b[1;36m1024\u001b[0m\u001b[1;33m)\u001b[0m\u001b[1;33m)\u001b[0m\u001b[1;33m)\u001b[0m\u001b[1;33m\u001b[0m\u001b[0m\n",
      "\u001b[1;31mNameError\u001b[0m: name 'data' is not defined"
     ]
    }
   ],
   "source": [
    "train_data, test_data = main_feature_construction(data)\n",
    "test = data[1][['Id', 'Open']]\n",
    "print('train_data and test_data have been constructed')\n",
    "del data\n",
    "print('Memory usage of dataframe train_data is %3.2f Mb' % (train_data.memory_usage(index=True).sum()/(1024*1024)))\n",
    "print('Memory usage of dataframe test_data is %3.2f Mb' % (test_data.memory_usage(index=True).sum()/(1024*1024)))"
   ]
  },
  {
   "cell_type": "markdown",
   "metadata": {},
   "source": [
    "######58 features -> 0.12946233 on 3Fold CV"
   ]
  },
  {
   "cell_type": "code",
   "execution_count": 28,
   "metadata": {
    "collapsed": false
   },
   "outputs": [
    {
     "name": "stdout",
     "output_type": "stream",
     "text": [
      "Train -> all dates\n",
      " Test -> need to predict\n",
      " 0 (feature  3): CompetitionDistance Importance = 0.18250\n",
      " 1 (feature  1): Promo Importance = 0.15185\n",
      " 2 (feature  0): Store Importance = 0.13409\n",
      " 3 (feature  4): CompetitionOpenSinceYear Importance = 0.06293\n",
      " 4 (feature  6): Promo2SinceYear Importance = 0.03528\n",
      " 5 (feature  5): Promo2SinceWeek Importance = 0.03259\n",
      " 6 (feature 42): DayOfWeek_6 Importance = 0.02769\n",
      " 7 (feature  8): Day Importance = 0.02470\n",
      " 8 (feature 37): DayOfWeek_1 Importance = 0.02320\n",
      " 9 (feature 11): DiffToday Importance = 0.02278\n",
      "10 (feature  7): PromoInterval Importance = 0.01982\n",
      "11 (feature 30): StoreType_a Importance = 0.01811\n",
      "12 (feature 10): DayOfYear Importance = 0.01746\n",
      "13 (feature 31): StoreType_b Importance = 0.01666\n",
      "14 (feature 12): DiffNewYear Importance = 0.01664\n",
      "15 (feature 13): DiffFoolDay Importance = 0.01583\n",
      "16 (feature 34): Assortment_a Importance = 0.01516\n",
      "17 (feature 33): StoreType_d Importance = 0.01139\n",
      "18 (feature 50): CompetitionOpenSinceMonth_3 Importance = 0.01099\n",
      "19 (feature  9): Week Importance = 0.00999\n",
      "20 (feature 32): StoreType_c Importance = 0.00944\n",
      "21 (feature 36): Assortment_c Importance = 0.00906\n",
      "22 (feature 56): CompetitionOpenSinceMonth_9 Importance = 0.00894\n",
      "23 (feature 52): CompetitionOpenSinceMonth_5 Importance = 0.00883\n",
      "24 (feature 47): CompetitionOpenSinceMonth_11 Importance = 0.00855\n",
      "25 (feature 48): CompetitionOpenSinceMonth_12 Importance = 0.00844\n",
      "26 (feature 55): CompetitionOpenSinceMonth_8 Importance = 0.00818\n",
      "27 (feature 51): CompetitionOpenSinceMonth_4 Importance = 0.00812\n",
      "28 (feature 44): CompetitionOpenSinceMonth_0 Importance = 0.00736\n",
      "29 (feature 54): CompetitionOpenSinceMonth_7 Importance = 0.00713\n",
      "30 (feature 49): CompetitionOpenSinceMonth_2 Importance = 0.00701\n",
      "31 (feature 53): CompetitionOpenSinceMonth_6 Importance = 0.00683\n",
      "32 (feature 43): DayOfWeek_7 Importance = 0.00671\n",
      "33 (feature 46): CompetitionOpenSinceMonth_10 Importance = 0.00659\n",
      "34 (feature 41): DayOfWeek_5 Importance = 0.00548\n",
      "35 (feature 38): DayOfWeek_2 Importance = 0.00383\n",
      "36 (feature 45): CompetitionOpenSinceMonth_1 Importance = 0.00382\n",
      "37 (feature 57): Year_2013 Importance = 0.00326\n",
      "38 (feature  2): SchoolHoliday Importance = 0.00259\n",
      "39 (feature 58): Year_2014 Importance = 0.00227\n",
      "40 (feature 40): DayOfWeek_4 Importance = 0.00224\n",
      "41 (feature 39): DayOfWeek_3 Importance = 0.00216\n",
      "42 (feature 59): Year_2015 Importance = 0.00170\n",
      "43 (feature 25): Month_5 Importance = 0.00163\n",
      "44 (feature 35): Assortment_b Importance = 0.00136\n",
      "45 (feature 27): Month_7 Importance = 0.00102\n",
      "46 (feature 26): Month_6 Importance = 0.00100\n",
      "47 (feature 24): Month_4 Importance = 0.00100\n",
      "48 (feature 23): Month_3 Importance = 0.00093\n",
      "49 (feature 14): StateHoliday_0 Importance = 0.00081\n",
      "50 (feature 28): Month_8 Importance = 0.00080\n",
      "51 (feature 29): Month_9 Importance = 0.00078\n",
      "52 (feature 22): Month_2 Importance = 0.00065\n",
      "53 (feature 21): Month_12 Importance = 0.00056\n",
      "54 (feature 19): Month_10 Importance = 0.00045\n",
      "55 (feature 18): Month_1 Importance = 0.00036\n",
      "56 (feature 15): StateHoliday_a Importance = 0.00021\n",
      "57 (feature 20): Month_11 Importance = 0.00020\n",
      "58 (feature 16): StateHoliday_b Importance = 0.00006\n",
      "59 (feature 17): StateHoliday_c Importance = 0.00001\n",
      "['CompetitionDistance', 'Promo', 'Store', 'CompetitionOpenSinceYear', 'Promo2SinceYear', 'Promo2SinceWeek', 'DayOfWeek_6', 'Day', 'DayOfWeek_1', 'DiffToday', 'PromoInterval', 'StoreType_a', 'DayOfYear', 'StoreType_b', 'DiffNewYear', 'DiffFoolDay', 'Assortment_a', 'StoreType_d', 'CompetitionOpenSinceMonth_3', 'Week', 'StoreType_c', 'Assortment_c', 'CompetitionOpenSinceMonth_9', 'CompetitionOpenSinceMonth_5', 'CompetitionOpenSinceMonth_11', 'CompetitionOpenSinceMonth_12', 'CompetitionOpenSinceMonth_8', 'CompetitionOpenSinceMonth_4', 'CompetitionOpenSinceMonth_0', 'CompetitionOpenSinceMonth_7', 'CompetitionOpenSinceMonth_2', 'CompetitionOpenSinceMonth_6', 'DayOfWeek_7', 'CompetitionOpenSinceMonth_10', 'DayOfWeek_5', 'DayOfWeek_2', 'CompetitionOpenSinceMonth_1', 'Year_2013', 'SchoolHoliday', 'Year_2014', 'DayOfWeek_4', 'DayOfWeek_3', 'Year_2015', 'Month_5', 'Assortment_b', 'Month_7', 'Month_6', 'Month_4', 'Month_3', 'StateHoliday_0', 'Month_8', 'Month_9', 'Month_2', 'Month_12', 'Month_10', 'Month_1', 'StateHoliday_a', 'Month_11', 'StateHoliday_b', 'StateHoliday_c']\n",
      "\n",
      "Result was written to prediction.csv\n"
     ]
    },
    {
     "data": {
      "image/png": "[encoded data removed]",
      "text/plain": [
       "<matplotlib.figure.Figure at 0x7fc4e88fa128>"
      ]
     },
     "metadata": {},
     "output_type": "display_data"
    }
   ],
   "source": [
    "validation = True\n",
    "feature_selection = None\n",
    "if validation:\n",
    "    number_of_folds = 1\n",
    "    print_importances = False\n",
    "    \n",
    "    alphas, scores = [], []\n",
    "    min_alpha, min_score = 1., 10**5\n",
    "    grid_space = [1]\n",
    "    \n",
    "    for alpha in grid_space:\n",
    "        rmspe_cv = 0. \n",
    "        \n",
    "        for i, data_fold in enumerate(get_data_CV(train_data, number_of_folds)):\n",
    "            train_fold, train_fold_labels, test_fold, test_fold_labels, feature_names = data_fold\n",
    "            \n",
    "            if i == number_of_folds - 1 and len(grid_space) <= 1:\n",
    "                print('number of features =', len(feature_names))\n",
    "                print_importances = True\n",
    "            \n",
    "            test_predicted_labels = fit_predict_model(train_fold, train_fold_labels, test_fold, \n",
    "                                                      feature_names=feature_names, \n",
    "                                                      print_importances=print_importances)\n",
    "            rmspe_score = compute_RMSPE(test_fold_labels, test_predicted_labels)\n",
    "            print('some rmspe_score = %1.8f' % rmspe_score)\n",
    "            rmspe_cv += rmspe_score\n",
    "        \n",
    "        del train_fold, train_fold_labels, test_fold, test_fold_labels, data_fold\n",
    "        \n",
    "        rmspe_cv /= number_of_folds\n",
    "        \n",
    "        if len(grid_space) > 1:\n",
    "            print('trying alpha =', alpha)\n",
    "        print('Cross-validated RMSPE = %1.8f on %d folds' % (rmspe_cv, number_of_folds), end='\\n\\n')\n",
    "\n",
    "        scores.append(rmspe_cv)\n",
    "        alphas.append(alpha)\n",
    "        if rmspe_cv <= min_score:\n",
    "            min_score, min_alpha = rmspe_cv, alpha\n",
    "    if len(grid_space) > 1:\n",
    "        print('MIN_ALPHA =', min_alpha, 'MIN_RMSPE =', min_score)\n",
    "        pl.figsize(15,10)\n",
    "        pl.plot(alphas, scores, 'r.--')\n",
    "\n",
    "elif not validation:\n",
    "    print_importances = True\n",
    "    train_array, train_array_labels, test_array, feature_names = get_all_data(train_data, test_data)\n",
    "    test_predicted_labels = fit_predict_model(train_array, train_array_labels, test_array, \n",
    "                                              feature_names=feature_names, print_importances=print_importances)\n",
    "    test['Sales'] = test_predicted_labels\n",
    "    test.ix[test.Open == 0, 'Sales'] = 0\n",
    "    test[['Id', 'Sales']].to_csv('prediction.csv', index=False)\n",
    "    print('\\nResult was written to prediction.csv')\n",
    "    del test\n",
    "    "
   ]
  },
  {
   "cell_type": "markdown",
   "metadata": {},
   "source": [
    "#####sorted list of feature importances"
   ]
  },
  {
   "cell_type": "markdown",
   "metadata": {},
   "source": [
    "['CompetitionDistance', 'Promo', 'Store', 'CompetitionOpenSinceYear', 'Promo2SinceYear', 'Promo2SinceWeek', 'Day', 'DayOfWeek_6', 'DayOfWeek_1', 'DiffToday', 'DayOfYear', 'StoreType_a', 'PromoInterval', 'DiffNewYear', 'StoreType_b', 'DiffFoolDay', 'Assortment_a', 'Week', 'StoreType_d', 'CompetitionOpenSinceMonth_3', 'StoreType_c', 'CompetitionOpenSinceMonth_5', 'Assortment_c', 'CompetitionOpenSinceMonth_11', 'CompetitionOpenSinceMonth_9', 'CompetitionOpenSinceMonth_8', 'CompetitionOpenSinceMonth_12', 'CompetitionOpenSinceMonth_4', 'CompetitionOpenSinceMonth_0', 'CompetitionOpenSinceMonth_7', 'CompetitionOpenSinceMonth_10', 'CompetitionOpenSinceMonth_2', 'DayOfWeek_7', 'CompetitionOpenSinceMonth_6', 'DayOfWeek_5', 'DayOfWeek_2', 'CompetitionOpenSinceMonth_1', 'SchoolHoliday', 'Year_2013', 'DayOfWeek_4', 'DayOfWeek_3', 'Year_2014', 'Month_7', 'Assortment_b', 'Month_4', 'Month_3', 'Year_2015', 'Month_5', 'Month_9', 'Month_8', 'Month_12', 'Month_6', 'Month_2', 'StateHoliday_0', 'Month_10', 'Month_1', 'Month_11', 'StateHoliday_a', 'StateHoliday_b', 'StateHoliday_c']"
   ]
  }
 ],
 "metadata": {
  "celltoolbar": "Raw Cell Format",
  "kernelspec": {
   "display_name": "Python 3",
   "language": "python",
   "name": "python3"
  },
  "language_info": {
   "codemirror_mode": {
    "name": "ipython",
    "version": 3
   },
   "file_extension": ".py",
   "mimetype": "text/x-python",
   "name": "python",
   "nbconvert_exporter": "python",
   "pygments_lexer": "ipython3",
   "version": "3.4.3"
  }
 },
 "nbformat": 4,
 "nbformat_minor": 0
}
